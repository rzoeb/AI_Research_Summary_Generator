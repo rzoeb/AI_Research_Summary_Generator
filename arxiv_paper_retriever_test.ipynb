{
 "cells": [
  {
   "cell_type": "code",
   "execution_count": null,
   "id": "e4c357bd",
   "metadata": {},
   "outputs": [],
   "source": [
    "import arxiv\n",
    "import datetime\n",
    "from collections import defaultdict\n",
    "\n",
    "def count_submissions_in_category(category, start_date, end_date, days):\n",
    "    \"\"\"\n",
    "    Returns a dictionary mapping date -> submission_count for the given category \n",
    "    between start_date and end_date.\n",
    "    \"\"\"\n",
    "    day_counts = defaultdict(int)\n",
    "    \n",
    "    # Create a client to handle queries\n",
    "    client = arxiv.Client(\n",
    "        page_size=2000,     # max items per query page\n",
    "        delay_seconds=3,    # polite delay between requests\n",
    "        num_retries=3       # number of retries for transient errors\n",
    "    )\n",
    "    \n",
    "    delta = datetime.timedelta(days=days)\n",
    "    current_start = start_date\n",
    "    \n",
    "    while current_start <= end_date:\n",
    "        current_end = current_start + delta  # 1-day slice\n",
    "\n",
    "        # Format dates in YYYYMMDDHHMM (arXiv uses yyyymmddhhmm in queries)\n",
    "        date_str_start = current_start.strftime('%Y%m%d0000')\n",
    "        date_str_end   = current_end.strftime('%Y%m%d0000')\n",
    "        \n",
    "        # Build the search query for the single-day range\n",
    "        search = arxiv.Search(\n",
    "            query=f\"cat:{category} AND submittedDate:[{date_str_start} TO {date_str_end}]\",\n",
    "            sort_by=arxiv.SortCriterion.SubmittedDate,\n",
    "            sort_order=arxiv.SortOrder.Ascending\n",
    "        )\n",
    "        \n",
    "        # Use client.results(search) rather than search.results() to avoid the deprecation warning\n",
    "        results = list(client.results(search))\n",
    "        day_counts[current_start] = len(results)\n",
    "        \n",
    "        current_start = current_end\n",
    "    \n",
    "    return day_counts\n",
    "\n",
    "def average_daily_submissions(category, days=120):\n",
    "    \"\"\"\n",
    "    Fetch data for the specified category over the past 'days' days,\n",
    "    then compute average daily submissions.\n",
    "    \"\"\"\n",
    "    end_date = datetime.date.today()\n",
    "    start_date = end_date - datetime.timedelta(days=days)\n",
    "    \n",
    "    day_counts = count_submissions_in_category(category, start_date, end_date, days=days)\n",
    "    total_submissions = sum(day_counts.values())\n",
    "    # Just use the exact number of full days in the dictionary for average\n",
    "    avg_per_day = total_submissions / len(day_counts) if day_counts else 0\n",
    "    return total_submissions"
   ]
  },
  {
   "cell_type": "code",
   "execution_count": null,
   "id": "ef3a6f0e",
   "metadata": {},
   "outputs": [],
   "source": [
    "avg_csAI = average_daily_submissions(\"cs.AI\", days=5)\n",
    "avg_csLG = average_daily_submissions(\"cs.LG\", days=5)\n",
    "\n",
    "print(f\"Total submissions for cs.AI over last 5 days: {avg_csAI:.2f}\")\n",
    "print(f\"Total submissions for cs.LG over last 5 days: {avg_csLG:.2f}\")"
   ]
  }
 ],
 "metadata": {
  "kernelspec": {
   "display_name": "Python 3",
   "language": "python",
   "name": "python3"
  },
  "language_info": {
   "name": "python",
   "version": "3.10.11"
  }
 },
 "nbformat": 4,
 "nbformat_minor": 5
}
